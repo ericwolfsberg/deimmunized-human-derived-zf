{
 "cells": [
  {
   "cell_type": "code",
   "execution_count": 1,
   "id": "d10f1fdf",
   "metadata": {},
   "outputs": [],
   "source": [
    "import re"
   ]
  },
  {
   "cell_type": "markdown",
   "id": "3af2e34e",
   "metadata": {},
   "source": [
    "# Get human ZFs"
   ]
  },
  {
   "cell_type": "code",
   "execution_count": 2,
   "id": "345fef30",
   "metadata": {},
   "outputs": [],
   "source": [
    "zf_re = re.compile('..C.{2,4}C.{12}H.{3,7}[HC]') ##zinc finger structure, ie CXX[XX]CXXXXXXXXXXXXHXXX[XXXX]H\n",
    "zf_cterm = re.compile('C.{2,4}C')"
   ]
  },
  {
   "cell_type": "code",
   "execution_count": 3,
   "id": "ccec589c",
   "metadata": {},
   "outputs": [],
   "source": [
    "infile = open('full_zf.fasta','r')\n",
    "full_protein_lib = {}\n",
    "line = infile.readline()\n",
    "while line:\n",
    "    seq = ''\n",
    "    name = line.split('|')[1]\n",
    "    line = infile.readline()\n",
    "    while line and (not line[0]=='>'):\n",
    "        seq += line[:-1]\n",
    "        line = infile.readline()\n",
    "    full_protein_lib[name] = seq"
   ]
  },
  {
   "cell_type": "code",
   "execution_count": 4,
   "id": "58a82d88",
   "metadata": {},
   "outputs": [],
   "source": [
    "zf_order = []\n",
    "allzf_lib = {}\n",
    "for protein in full_protein_lib:\n",
    "    seq = full_protein_lib[protein]\n",
    "    zf_match = re.search(zf_re,seq)\n",
    "    fing_num = 1\n",
    "    while zf_match:\n",
    "        zf = zf_match.group()\n",
    "        end = zf_match.end()\n",
    "        name = protein + ' finger ' + str(fing_num)\n",
    "        same_seq = 0\n",
    "        for have_zf in allzf_lib:\n",
    "            if allzf_lib[have_zf] == zf:\n",
    "                same_seq = 1\n",
    "        if not same_seq:\n",
    "            allzf_lib[name] = zf\n",
    "            zf_order.append(name)\n",
    "        seq = seq[end:]\n",
    "        zf_match = re.search(zf_re,seq)\n",
    "        fing_num += 1\n",
    "allzf_lib['Q9Y2K1 finger 1']='FTCDSCGFGFSCEKLLDEHVLTC'\n",
    "allzf_lib['Q9GZU2 finger 6']='YECEDCGLGFVDLTDLTDHQKVH'"
   ]
  },
  {
   "cell_type": "markdown",
   "id": "b5e37cbb",
   "metadata": {},
   "source": [
    "## Generate input file for MARIA with individual ZFs"
   ]
  },
  {
   "cell_type": "code",
   "execution_count": 5,
   "id": "d57b0158",
   "metadata": {},
   "outputs": [],
   "source": [
    "outfile = open('maria_nterm_link_zfs_final.txt','w')\n",
    "outfile.write('Allele1\\tAllele2 (Same as Allele1 if analyzing a single allele)\\tGene Symbol\\tPeptide Sequence\\tTPM (Optional)\\n')\n",
    "for zf in allzf_lib.keys():\n",
    "    seq = allzf_lib[zf]\n",
    "    outfile.write('HLA-DRB1*01:01\\tHLA-DRB1*01:01\\t{}\\t{}TGERP\\t\\n'.format(zf,seq[-14:]))\n",
    "outfile.close()"
   ]
  },
  {
   "cell_type": "markdown",
   "id": "bd4a1d93",
   "metadata": {},
   "source": [
    "## Read MHC output files for individual ZFs"
   ]
  },
  {
   "cell_type": "code",
   "execution_count": 6,
   "id": "77e8db80",
   "metadata": {},
   "outputs": [],
   "source": [
    "infile = open('maria_nterm_final.txt','r')\n",
    "maria_accepted_zfs = {}\n",
    "line = infile.readline()\n",
    "line = infile.readline()\n",
    "while line:\n",
    "    data = line.split('\\t')\n",
    "    name = data[2]\n",
    "    score = data[7]\n",
    "    if float(score) <63:\n",
    "        maria_accepted_zfs[name] = allzf_lib[name]\n",
    "    line = infile.readline()\n",
    "infile.close()"
   ]
  },
  {
   "cell_type": "markdown",
   "id": "2d3ad446",
   "metadata": {},
   "source": [
    "## Generatate FASTA-format file of ZFs for DeepZF and ZifRC input"
   ]
  },
  {
   "cell_type": "code",
   "execution_count": 7,
   "id": "9144ad4a",
   "metadata": {},
   "outputs": [],
   "source": [
    "outfile = open('allzf_fasta.txt','w')\n",
    "for zf in allzf_lib.keys():\n",
    "    outfile.write('>{}\\r{}\\r'.format(zf,allzf_lib[zf]))"
   ]
  },
  {
   "cell_type": "markdown",
   "id": "3fb7efb4",
   "metadata": {},
   "source": [
    "## Read DeepZF and ZifRC output"
   ]
  },
  {
   "cell_type": "code",
   "execution_count": 8,
   "id": "72724172",
   "metadata": {},
   "outputs": [],
   "source": [
    "infile = open('allzf_deepzf_output.csv','r')\n",
    "deepzf_codons = {}\n",
    "deepzf_scores = {}\n",
    "for zf in zf_order:\n",
    "    codon = ''\n",
    "    score = 0\n",
    "    for i in range(3):\n",
    "        a = float(infile.readline())\n",
    "        c = float(infile.readline())\n",
    "        g= float(infile.readline())\n",
    "        t = float(infile.readline())\n",
    "        if a >= c and a >= g and a>= t:\n",
    "            codon += 'A'\n",
    "            score += a\n",
    "        elif c >= g and c >= t:\n",
    "            codon += 'C'\n",
    "            score += c\n",
    "        elif g >= t:\n",
    "            codon += 'G'\n",
    "            score += g\n",
    "        else:\n",
    "            codon += 'T'\n",
    "            score += a\n",
    "    deepzf_codons[zf]=codon\n",
    "    deepzf_scores[zf] = score\n",
    "infile.close()"
   ]
  },
  {
   "cell_type": "code",
   "execution_count": 9,
   "id": "7389af58",
   "metadata": {},
   "outputs": [],
   "source": [
    "infile = open('all_zifrc.txt','r')\n",
    "line = infile.readline()\n",
    "line = infile.readline()\n",
    "line = infile.readline()\n",
    "zifrc_codons = {}\n",
    "zifrc_scores = {}\n",
    "while line:\n",
    "    data = line.split('\\t')\n",
    "    name = data[1][:-1]\n",
    "    line = infile.readline()\n",
    "    line = infile.readline()\n",
    "    line = infile.readline()\n",
    "    line = infile.readline()\n",
    "    line = infile.readline()\n",
    "    codon = ''\n",
    "    score = 0\n",
    "    for i in range(3):\n",
    "        base_data = line.split()[1:]\n",
    "        score = score + float(max(base_data))\n",
    "        a= float(base_data[0])\n",
    "        c=float(base_data[1])\n",
    "        g = float(base_data[2])\n",
    "        t = float(base_data[3])\n",
    "        if a == float(max(base_data)):\n",
    "            codon = codon + 'A'\n",
    "        elif c == float(max(base_data)):\n",
    "            codon = codon + 'C'\n",
    "        elif g == float(max(base_data)):\n",
    "            codon = codon + 'G'\n",
    "        elif t == float(max(base_data)):\n",
    "            codon= codon + 'T'\n",
    "        line = infile.readline()\n",
    "    line = infile.readline()\n",
    "    line = infile.readline()\n",
    "    line = infile.readline()\n",
    "    line = infile.readline()\n",
    "    line = infile.readline()\n",
    "    zifrc_codons[name] = codon\n",
    "    zifrc_scores[name] = score\n",
    "infile.close()"
   ]
  },
  {
   "cell_type": "markdown",
   "id": "28617242",
   "metadata": {},
   "source": [
    "## Export ZF affinity summary files"
   ]
  },
  {
   "cell_type": "code",
   "execution_count": 10,
   "id": "aab42ffc",
   "metadata": {},
   "outputs": [],
   "source": [
    "zifrc_file = open('ZifRC_data.txt','w')\n",
    "deepzf_file = open('DeepZF_data.txt','w')\n",
    "for zf in allzf_lib:\n",
    "    if zf in zifrc_codons:\n",
    "        zifrc_file.write('{}\\t{}\\t{}\\t{}\\n'.format(zf,allzf_lib[zf],zifrc_codons[zf],zifrc_scores[zf]))\n",
    "    deepzf_file.write('{}\\t{}\\t{}\\t{}\\n'.format(zf,allzf_lib[zf],deepzf_codons[zf],deepzf_scores[zf]))\n",
    "zifrc_file.close()\n",
    "deepzf_file.close()"
   ]
  },
  {
   "cell_type": "markdown",
   "id": "c00b5f08",
   "metadata": {},
   "source": [
    "## Determine ZF specificity for MARIA-accepted ZFs"
   ]
  },
  {
   "cell_type": "code",
   "execution_count": 11,
   "id": "5659be41",
   "metadata": {},
   "outputs": [],
   "source": [
    "possible_codons = []\n",
    "for n1 in ['A', 'C', 'G','T']:\n",
    "    for n2 in ['A', 'C', 'G','T']:\n",
    "        for n3 in ['A', 'C', 'G','T']:\n",
    "            possible_codons.append(n1+n2+n3)"
   ]
  },
  {
   "cell_type": "code",
   "execution_count": 12,
   "id": "3afc9934",
   "metadata": {},
   "outputs": [],
   "source": [
    "maria_zifrc_codons = {}\n",
    "for codon in possible_codons:\n",
    "    maria_zifrc_codons[codon]= []\n",
    "for zf in maria_accepted_zfs:\n",
    "    if zf in zifrc_codons:\n",
    "        maria_zifrc_codons[zifrc_codons[zf]].append(zf)"
   ]
  },
  {
   "cell_type": "code",
   "execution_count": 13,
   "id": "5a97c08d",
   "metadata": {},
   "outputs": [],
   "source": [
    "maria_deepzf_codons = {}\n",
    "for codon in possible_codons:\n",
    "    maria_deepzf_codons[codon]= []\n",
    "for zf in maria_accepted_zfs:\n",
    "    if zf in deepzf_codons:\n",
    "        maria_deepzf_codons[deepzf_codons[zf]].append(zf)"
   ]
  },
  {
   "cell_type": "code",
   "execution_count": 14,
   "id": "fd576935",
   "metadata": {
    "scrolled": true
   },
   "outputs": [
    {
     "name": "stdout",
     "output_type": "stream",
     "text": [
      "AAA\t11\n",
      "AAC\t12\n",
      "AAG\t18\n",
      "AAT\t31\n",
      "ACA\t11\n",
      "ACC\t16\n",
      "ACG\t13\n",
      "ACT\t35\n",
      "AGA\t10\n",
      "AGC\t0\n",
      "AGG\t13\n",
      "AGT\t23\n",
      "ATA\t80\n",
      "ATC\t18\n",
      "ATG\t63\n",
      "ATT\t109\n",
      "CAA\t0\n",
      "CAC\t0\n",
      "CAG\t2\n",
      "CAT\t3\n",
      "CCA\t1\n",
      "CCC\t2\n",
      "CCG\t5\n",
      "CCT\t0\n",
      "CGA\t7\n",
      "CGC\t0\n",
      "CGG\t4\n",
      "CGT\t4\n",
      "CTA\t12\n",
      "CTC\t0\n",
      "CTG\t8\n",
      "CTT\t6\n",
      "GAA\t5\n",
      "GAC\t1\n",
      "GAG\t9\n",
      "GAT\t19\n",
      "GCA\t10\n",
      "GCC\t9\n",
      "GCG\t11\n",
      "GCT\t28\n",
      "GGA\t20\n",
      "GGC\t7\n",
      "GGG\t9\n",
      "GGT\t14\n",
      "GTA\t14\n",
      "GTC\t26\n",
      "GTG\t30\n",
      "GTT\t85\n",
      "TAA\t0\n",
      "TAC\t0\n",
      "TAG\t4\n",
      "TAT\t4\n",
      "TCA\t2\n",
      "TCC\t17\n",
      "TCG\t10\n",
      "TCT\t10\n",
      "TGA\t5\n",
      "TGC\t1\n",
      "TGG\t21\n",
      "TGT\t8\n",
      "TTA\t2\n",
      "TTC\t3\n",
      "TTG\t22\n",
      "TTT\t20\n"
     ]
    }
   ],
   "source": [
    "for codon in maria_zifrc_codons:\n",
    "    print('{}\\t{}'.format(codon,len(maria_zifrc_codons[codon])))"
   ]
  },
  {
   "cell_type": "code",
   "execution_count": 15,
   "id": "05271528",
   "metadata": {
    "scrolled": true
   },
   "outputs": [
    {
     "name": "stdout",
     "output_type": "stream",
     "text": [
      "AAA\t18\n",
      "AAC\t15\n",
      "AAG\t20\n",
      "AAT\t26\n",
      "ACA\t16\n",
      "ACC\t9\n",
      "ACG\t3\n",
      "ACT\t13\n",
      "AGA\t24\n",
      "AGC\t6\n",
      "AGG\t31\n",
      "AGT\t26\n",
      "ATA\t10\n",
      "ATC\t2\n",
      "ATG\t13\n",
      "ATT\t11\n",
      "CAA\t16\n",
      "CAC\t12\n",
      "CAG\t31\n",
      "CAT\t21\n",
      "CCA\t16\n",
      "CCC\t18\n",
      "CCG\t10\n",
      "CCT\t30\n",
      "CGA\t7\n",
      "CGC\t9\n",
      "CGG\t22\n",
      "CGT\t8\n",
      "CTA\t15\n",
      "CTC\t5\n",
      "CTG\t21\n",
      "CTT\t16\n",
      "GAA\t25\n",
      "GAC\t12\n",
      "GAG\t25\n",
      "GAT\t17\n",
      "GCA\t13\n",
      "GCC\t27\n",
      "GCG\t23\n",
      "GCT\t34\n",
      "GGA\t18\n",
      "GGC\t25\n",
      "GGG\t39\n",
      "GGT\t10\n",
      "GTA\t12\n",
      "GTC\t9\n",
      "GTG\t27\n",
      "GTT\t19\n",
      "TAA\t3\n",
      "TAC\t7\n",
      "TAG\t0\n",
      "TAT\t5\n",
      "TCA\t4\n",
      "TCC\t9\n",
      "TCG\t1\n",
      "TCT\t10\n",
      "TGA\t7\n",
      "TGC\t10\n",
      "TGG\t17\n",
      "TGT\t11\n",
      "TTA\t6\n",
      "TTC\t4\n",
      "TTG\t10\n",
      "TTT\t8\n"
     ]
    }
   ],
   "source": [
    "for codon in maria_deepzf_codons:\n",
    "    print('{}\\t{}'.format(codon,len(maria_deepzf_codons[codon])))"
   ]
  },
  {
   "cell_type": "code",
   "execution_count": null,
   "id": "2d960fc5",
   "metadata": {},
   "outputs": [],
   "source": []
  },
  {
   "cell_type": "code",
   "execution_count": null,
   "id": "5aa34979",
   "metadata": {},
   "outputs": [],
   "source": []
  }
 ],
 "metadata": {
  "kernelspec": {
   "display_name": "Python 3 (ipykernel)",
   "language": "python",
   "name": "python3"
  },
  "language_info": {
   "codemirror_mode": {
    "name": "ipython",
    "version": 3
   },
   "file_extension": ".py",
   "mimetype": "text/x-python",
   "name": "python",
   "nbconvert_exporter": "python",
   "pygments_lexer": "ipython3",
   "version": "3.9.13"
  }
 },
 "nbformat": 4,
 "nbformat_minor": 5
}
