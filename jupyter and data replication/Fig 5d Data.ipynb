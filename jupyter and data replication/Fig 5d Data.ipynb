{
 "cells": [
  {
   "cell_type": "code",
   "execution_count": 1,
   "id": "626fd17a",
   "metadata": {},
   "outputs": [],
   "source": [
    "import re\n",
    "import os\n",
    "import Bio\n",
    "import Bio.SeqIO\n",
    "from Bio.Seq import Seq\n",
    "import time"
   ]
  },
  {
   "cell_type": "markdown",
   "id": "dc234b28",
   "metadata": {},
   "source": [
    "# Get human ZFs"
   ]
  },
  {
   "cell_type": "code",
   "execution_count": 2,
   "id": "92418758",
   "metadata": {},
   "outputs": [],
   "source": [
    "zf_re = re.compile('..C.{2,4}C.{12}H.{3,7}[HC]') ##zinc finger structure, ie CXX[XX]CXXXXXXXXXXXXHXXX[XXXX]H\n",
    "zf_cterm = re.compile('C.{2,4}C')"
   ]
  },
  {
   "cell_type": "code",
   "execution_count": 3,
   "id": "037e170e",
   "metadata": {},
   "outputs": [],
   "source": [
    "infile = open('full_zf.fasta','r')\n",
    "full_protein_lib = {}\n",
    "line = infile.readline()\n",
    "while line:\n",
    "    seq = ''\n",
    "    name = line.split('|')[1]\n",
    "    line = infile.readline()\n",
    "    while line and (not line[0]=='>'):\n",
    "        seq += line[:-1]\n",
    "        line = infile.readline()\n",
    "    full_protein_lib[name] = seq"
   ]
  },
  {
   "cell_type": "code",
   "execution_count": 4,
   "id": "c7400d53",
   "metadata": {},
   "outputs": [],
   "source": [
    "zf_order = []\n",
    "allzf_lib = {}\n",
    "for protein in full_protein_lib:\n",
    "    seq = full_protein_lib[protein]\n",
    "    zf_match = re.search(zf_re,seq)\n",
    "    fing_num = 1\n",
    "    while zf_match:\n",
    "        zf = zf_match.group()\n",
    "        end = zf_match.end()\n",
    "        name = protein + ' finger ' + str(fing_num)\n",
    "        same_seq = 0\n",
    "        for have_zf in allzf_lib:\n",
    "            if allzf_lib[have_zf] == zf:\n",
    "                same_seq = 1\n",
    "        if not same_seq:\n",
    "            allzf_lib[name] = zf\n",
    "            zf_order.append(name)\n",
    "        seq = seq[end:]\n",
    "        zf_match = re.search(zf_re,seq)\n",
    "        fing_num += 1\n",
    "allzf_lib['Q9Y2K1 finger 1']='FTCDSCGFGFSCEKLLDEHVLTC'\n",
    "allzf_lib['Q9GZU2 finger 6']='YECEDCGLGFVDLTDLTDHQKVH'"
   ]
  },
  {
   "cell_type": "markdown",
   "id": "c9e5d05d",
   "metadata": {},
   "source": [
    "## Generate input files for MHC predictors with individual ZFs"
   ]
  },
  {
   "cell_type": "code",
   "execution_count": 5,
   "id": "05b3c214",
   "metadata": {},
   "outputs": [],
   "source": [
    "outfile = open('maria_nterm_link_zfs_final.txt','w')\n",
    "outfile.write('Allele1\\tAllele2 (Same as Allele1 if analyzing a single allele)\\tGene Symbol\\tPeptide Sequence\\tTPM (Optional)\\n')\n",
    "for zf in allzf_lib.keys():\n",
    "    seq = allzf_lib[zf]\n",
    "    outfile.write('HLA-DRB1*01:01\\tHLA-DRB1*01:01\\t{}\\t{}TGERP\\t\\n'.format(zf,seq[-14:]))\n",
    "outfile.close()"
   ]
  },
  {
   "cell_type": "code",
   "execution_count": 6,
   "id": "c7e0dddd",
   "metadata": {},
   "outputs": [],
   "source": [
    "outfile = open('netmhc_nterm_link_zfs_final.txt','w')\n",
    "for zf in allzf_lib.keys():\n",
    "    seq = allzf_lib[zf]\n",
    "    outfile.write('>{}\\n{}TGERP\\n'.format(zf,seq[-14:]))\n",
    "outfile.close()"
   ]
  },
  {
   "cell_type": "code",
   "execution_count": 7,
   "id": "f9d94a1e",
   "metadata": {},
   "outputs": [],
   "source": [
    "outfile = open('netmhc_cterm_link_zfs_final.txt','w')\n",
    "for zf in allzf_lib.keys():\n",
    "    seq = allzf_lib[zf]\n",
    "    outfile.write('>{}\\nTGERP{}\\n'.format(zf,seq[:14]))\n",
    "outfile.close()"
   ]
  },
  {
   "cell_type": "markdown",
   "id": "25f3fbd5",
   "metadata": {},
   "source": [
    "## Read MHC output files for individual ZFs"
   ]
  },
  {
   "cell_type": "code",
   "execution_count": 8,
   "id": "a9e61bdb",
   "metadata": {},
   "outputs": [],
   "source": [
    "infile = open('maria_nterm_final.txt','r')\n",
    "maria_accepted_zfs = {}\n",
    "line = infile.readline()\n",
    "line = infile.readline()\n",
    "while line:\n",
    "    data = line.split('\\t')\n",
    "    name = data[2]\n",
    "    score = data[7]\n",
    "    if float(score) <63:\n",
    "        maria_accepted_zfs[name] = allzf_lib[name]\n",
    "    line = infile.readline()\n",
    "infile.close()"
   ]
  },
  {
   "cell_type": "code",
   "execution_count": 9,
   "id": "4c503eaa",
   "metadata": {},
   "outputs": [],
   "source": [
    "infile = open('allzf_netmhc_nterm.txt')\n",
    "line = infile.readline()\n",
    "nterm_accepted_netmhc_zfs = {}\n",
    "ready = 2\n",
    "reading = 0\n",
    "index = 0\n",
    "while line:\n",
    "    if reading:\n",
    "        data = line.split()\n",
    "        score = float(data[8])\n",
    "        if score < 37:\n",
    "            reading = 0\n",
    "        elif reading == 6:\n",
    "            nterm_accepted_netmhc_zfs[zf] = allzf_lib[zf]\n",
    "            reading = 0\n",
    "        else: \n",
    "            reading = reading + 1\n",
    "    elif line[0] == '-':\n",
    "        ready += 1\n",
    "        if ready == 4:\n",
    "            reading = 1\n",
    "            ready = 0\n",
    "            zf = zf_order[index]\n",
    "            index = index + 1\n",
    "    line = infile.readline()"
   ]
  },
  {
   "cell_type": "code",
   "execution_count": 10,
   "id": "b6ef333b",
   "metadata": {},
   "outputs": [],
   "source": [
    "infile = open('allzf_netmhc_cterm.txt')\n",
    "line = infile.readline()\n",
    "cterm_accepted_netmhc_zfs = {}\n",
    "ready = 2\n",
    "reading = 0\n",
    "index = 0\n",
    "while line:\n",
    "    if reading:\n",
    "        data = line.split()\n",
    "        score = float(data[8])\n",
    "        if score < 37:\n",
    "            reading = 0\n",
    "        elif reading == 6:\n",
    "            cterm_accepted_netmhc_zfs[zf] = allzf_lib[zf]\n",
    "            reading = 0\n",
    "        else: \n",
    "            reading = reading + 1\n",
    "    elif line[0] == '-':\n",
    "        ready += 1\n",
    "        if ready == 4:\n",
    "            reading = 1\n",
    "            ready = 0\n",
    "            zf = zf_order[index]\n",
    "            index = index + 1\n",
    "    line = infile.readline()"
   ]
  },
  {
   "cell_type": "code",
   "execution_count": 11,
   "id": "6d01fe0b",
   "metadata": {},
   "outputs": [],
   "source": [
    "netmhc_accepted_zfs = {}\n",
    "for zf in nterm_accepted_netmhc_zfs.keys():\n",
    "    if zf in cterm_accepted_netmhc_zfs.keys():\n",
    "        netmhc_accepted_zfs[zf]=allzf_lib[zf]"
   ]
  },
  {
   "cell_type": "markdown",
   "id": "496dfd7c",
   "metadata": {},
   "source": [
    "## Generatate FASTA-format file of ZFs for DeepZF and ZifRC input"
   ]
  },
  {
   "cell_type": "code",
   "execution_count": 12,
   "id": "21ffdb8c",
   "metadata": {},
   "outputs": [],
   "source": [
    "outfile = open('allzf_fasta.txt','w')\n",
    "for zf in allzf_lib.keys():\n",
    "    outfile.write('>{}\\r{}\\r'.format(zf,allzf_lib[zf]))"
   ]
  },
  {
   "cell_type": "markdown",
   "id": "3397ea4e",
   "metadata": {},
   "source": [
    "## Read DeepZF and ZifRC output"
   ]
  },
  {
   "cell_type": "code",
   "execution_count": 13,
   "id": "41d8093a",
   "metadata": {},
   "outputs": [],
   "source": [
    "infile = open('allzf_deepzf_output.csv','r')\n",
    "deepzf_codons = {}\n",
    "deepzf_scores = {}\n",
    "for zf in zf_order:\n",
    "    codon = ''\n",
    "    score = 0\n",
    "    for i in range(3):\n",
    "        a = float(infile.readline())\n",
    "        c = float(infile.readline())\n",
    "        g= float(infile.readline())\n",
    "        t = float(infile.readline())\n",
    "        if a >= c and a >= g and a>= t:\n",
    "            codon += 'A'\n",
    "            score += a\n",
    "        elif c >= g and c >= t:\n",
    "            codon += 'C'\n",
    "            score += c\n",
    "        elif g >= t:\n",
    "            codon += 'G'\n",
    "            score += g\n",
    "        else:\n",
    "            codon += 'T'\n",
    "            score += a\n",
    "    deepzf_codons[zf]=codon\n",
    "    deepzf_scores[zf] = score\n",
    "infile.close()"
   ]
  },
  {
   "cell_type": "code",
   "execution_count": 14,
   "id": "8c3c44f7",
   "metadata": {},
   "outputs": [],
   "source": [
    "infile = open('all_zifrc.txt','r')\n",
    "line = infile.readline()\n",
    "line = infile.readline()\n",
    "line = infile.readline()\n",
    "zifrc_codons = {}\n",
    "zifrc_scores = {}\n",
    "while line:\n",
    "    data = line.split('\\t')\n",
    "    name = data[1][:-1]\n",
    "    line = infile.readline()\n",
    "    line = infile.readline()\n",
    "    line = infile.readline()\n",
    "    line = infile.readline()\n",
    "    line = infile.readline()\n",
    "    codon = ''\n",
    "    score = 0\n",
    "    for i in range(3):\n",
    "        base_data = line.split()[1:]\n",
    "        score = score + float(max(base_data))\n",
    "        a= float(base_data[0])\n",
    "        c=float(base_data[1])\n",
    "        g = float(base_data[2])\n",
    "        t = float(base_data[3])\n",
    "        if a == float(max(base_data)):\n",
    "            codon = codon + 'A'\n",
    "        elif c == float(max(base_data)):\n",
    "            codon = codon + 'C'\n",
    "        elif g == float(max(base_data)):\n",
    "            codon = codon + 'G'\n",
    "        elif t == float(max(base_data)):\n",
    "            codon= codon + 'T'\n",
    "        line = infile.readline()\n",
    "    line = infile.readline()\n",
    "    line = infile.readline()\n",
    "    line = infile.readline()\n",
    "    line = infile.readline()\n",
    "    line = infile.readline()\n",
    "    zifrc_codons[name] = codon\n",
    "    zifrc_scores[name] = score\n",
    "infile.close()"
   ]
  },
  {
   "cell_type": "markdown",
   "id": "7a45b29b",
   "metadata": {},
   "source": [
    "## Export ZF affinity summary files"
   ]
  },
  {
   "cell_type": "code",
   "execution_count": 15,
   "id": "2b2b545b",
   "metadata": {},
   "outputs": [],
   "source": [
    "zifrc_file = open('ZifRC_data.txt','w')\n",
    "deepzf_file = open('DeepZF_data.txt','w')\n",
    "for zf in allzf_lib:\n",
    "    if zf in zifrc_codons:\n",
    "        zifrc_file.write('{}\\t{}\\t{}\\t{}\\n'.format(zf,allzf_lib[zf],zifrc_codons[zf],zifrc_scores[zf]))\n",
    "    deepzf_file.write('{}\\t{}\\t{}\\t{}\\n'.format(zf,allzf_lib[zf],deepzf_codons[zf],deepzf_scores[zf]))\n",
    "zifrc_file.close()\n",
    "deepzf_file.close()"
   ]
  },
  {
   "cell_type": "markdown",
   "id": "9594c6ed",
   "metadata": {},
   "source": [
    "## Determine ZF specificity for MARIA-accepted and NetMHCIIpan-accepted ZFs"
   ]
  },
  {
   "cell_type": "code",
   "execution_count": 16,
   "id": "83b6eace",
   "metadata": {},
   "outputs": [],
   "source": [
    "possible_codons = []\n",
    "for n1 in ['A', 'C', 'G','T']:\n",
    "    for n2 in ['A', 'C', 'G','T']:\n",
    "        for n3 in ['A', 'C', 'G','T']:\n",
    "            possible_codons.append(n1+n2+n3)"
   ]
  },
  {
   "cell_type": "code",
   "execution_count": 17,
   "id": "65f15412",
   "metadata": {},
   "outputs": [],
   "source": [
    "maria_zifrc_codons = {}\n",
    "for codon in possible_codons:\n",
    "    maria_zifrc_codons[codon]= []\n",
    "for zf in maria_accepted_zfs:\n",
    "    if zf in zifrc_codons:\n",
    "        maria_zifrc_codons[zifrc_codons[zf]].append(zf)"
   ]
  },
  {
   "cell_type": "code",
   "execution_count": 18,
   "id": "6d2ec48d",
   "metadata": {},
   "outputs": [],
   "source": [
    "maria_deepzf_codons = {}\n",
    "for codon in possible_codons:\n",
    "    maria_deepzf_codons[codon]= []\n",
    "for zf in maria_accepted_zfs:\n",
    "    if zf in deepzf_codons:\n",
    "        maria_deepzf_codons[deepzf_codons[zf]].append(zf)"
   ]
  },
  {
   "cell_type": "code",
   "execution_count": 19,
   "id": "7a9842f7",
   "metadata": {},
   "outputs": [],
   "source": [
    "netmhc_zifrc_codons = {}\n",
    "for codon in possible_codons:\n",
    "    netmhc_zifrc_codons[codon]= []\n",
    "for zf in netmhc_accepted_zfs:\n",
    "    if zf in zifrc_codons:\n",
    "        netmhc_zifrc_codons[zifrc_codons[zf]].append(zf)"
   ]
  },
  {
   "cell_type": "code",
   "execution_count": 20,
   "id": "7eaa5234",
   "metadata": {},
   "outputs": [],
   "source": [
    "netmhc_deepzf_codons = {}\n",
    "for codon in possible_codons:\n",
    "    netmhc_deepzf_codons[codon]= []\n",
    "for zf in netmhc_accepted_zfs:\n",
    "    if zf in deepzf_codons:\n",
    "        netmhc_deepzf_codons[deepzf_codons[zf]].append(zf)"
   ]
  },
  {
   "cell_type": "code",
   "execution_count": 21,
   "id": "3ca3c249",
   "metadata": {},
   "outputs": [],
   "source": [
    "maria_zifrc_missing_codons = []\n",
    "for codon in maria_zifrc_codons.keys():\n",
    "    if len(maria_zifrc_codons[codon])==0:\n",
    "        maria_zifrc_missing_codons.append(codon)\n",
    "        \n",
    "netmhc_zifrc_missing_codons = []\n",
    "for codon in netmhc_zifrc_codons.keys():\n",
    "    if len(netmhc_zifrc_codons[codon])==0:\n",
    "        netmhc_zifrc_missing_codons.append(codon)\n",
    "\n",
    "maria_deepzf_missing_codons = []\n",
    "for codon in maria_deepzf_codons.keys():\n",
    "    if len(maria_deepzf_codons[codon])==0:\n",
    "        maria_deepzf_missing_codons.append(codon)\n",
    "        \n",
    "netmhc_deepzf_missing_codons = []\n",
    "for codon in netmhc_deepzf_codons.keys():\n",
    "    if len(netmhc_deepzf_codons[codon])==0:\n",
    "        netmhc_deepzf_missing_codons.append(codon)"
   ]
  },
  {
   "cell_type": "markdown",
   "id": "5fe4ea6e",
   "metadata": {},
   "source": [
    "## Generate input files for ZF pairs"
   ]
  },
  {
   "cell_type": "code",
   "execution_count": 22,
   "id": "5b75b37c",
   "metadata": {},
   "outputs": [],
   "source": [
    "file_num =1\n",
    "zf_count = 1\n",
    "outfile = open('maria input pairs final/final_pair_{}.txt'.format(file_num), 'w')\n",
    "outfile.write('Allele1\\tAllele2 (Same as Allele1 if analyzing a single allele)\\tGene Symbol\\tPeptide Sequence\\tTPM (Optional)\\n')\n",
    "for zf_1 in maria_accepted_zfs.keys():\n",
    "    for zf_2 in maria_accepted_zfs.keys():\n",
    "        outfile.write('HLA-DRB1*01:01\\tHLA-DRB1*01:01\\t{}-{}\\t{}TGERP{}\\t\\n'.format(zf_1,zf_2,maria_accepted_zfs[zf_1][-14:],maria_accepted_zfs[zf_2][:14]))\n",
    "        zf_count += 1\n",
    "        if zf_count >20000:\n",
    "            outfile.close()\n",
    "            file_num += 1\n",
    "            zf_count = 1\n",
    "            outfile = outfile = open('maria input pairs final/final_pair_{}.txt'.format(file_num), 'w')\n",
    "            outfile.write('Allele1\\tAllele2 (Same as Allele1 if analyzing a single allele)\\tGene Symbol\\tPeptide Sequence\\tTPM (Optional)\\n')\n",
    "outfile.close()"
   ]
  },
  {
   "cell_type": "code",
   "execution_count": 23,
   "id": "b5fc7772",
   "metadata": {},
   "outputs": [],
   "source": [
    "file_num =1\n",
    "zf_count = 1\n",
    "outfile = open('netmhc input pairs final/final_pair_{}.txt'.format(file_num), 'w')\n",
    "for zf_1 in netmhc_accepted_zfs.keys():\n",
    "    for zf_2 in netmhc_accepted_zfs.keys():\n",
    "        outfile.write('>{}-{}\\n{}TGERP{}\\t\\n'.format(zf_1,zf_2,netmhc_accepted_zfs[zf_1][-14:],netmhc_accepted_zfs[zf_2][:14]))\n",
    "        zf_count += 1\n",
    "        if zf_count >5000:\n",
    "            outfile.close()\n",
    "            file_num += 1\n",
    "            zf_count = 1\n",
    "            outfile = outfile = open('netmhc input pairs final/final_pair_{}.txt'.format(file_num), 'w')\n",
    "outfile.close()"
   ]
  },
  {
   "cell_type": "markdown",
   "id": "d44b7d04",
   "metadata": {},
   "source": [
    "## Read output files from ZF pairs"
   ]
  },
  {
   "cell_type": "code",
   "execution_count": 24,
   "id": "2c9c8680",
   "metadata": {},
   "outputs": [],
   "source": [
    "maria_zf_transitions = {}\n",
    "for file_num in range(1,45): #cycling through all MARIA output files for zf-zf pairs\n",
    "    infile = open('maria final pairs/maria final {}.txt'.format(file_num),'r')\n",
    "    line = infile.readline()\n",
    "    line = infile.readline()\n",
    "    while line:\n",
    "        data = line.split('\\t')\n",
    "        pair = data[2]\n",
    "        seq = data[3]\n",
    "        score = float(data[7])\n",
    "        zfs = pair.split('-')\n",
    "        if score < 63: #threshold for predicted immunogenicity\n",
    "            zfs = pair.split('-')\n",
    "            zf1 = zfs[0]\n",
    "            \n",
    "            zf2 = zfs[1]\n",
    "            if (zf1 in maria_accepted_zfs and zf2 in maria_accepted_zfs):\n",
    "                \n",
    "                if zf1 in maria_zf_transitions.keys(): #creating dictionary that maps a zf to all zfs that can follow it\n",
    "                    maria_zf_transitions[zf1].append(zf2)\n",
    "                else: \n",
    "                    maria_zf_transitions[zf1] = [zf2]\n",
    "        line = infile.readline()\n",
    "    infile.close()"
   ]
  },
  {
   "cell_type": "code",
   "execution_count": 25,
   "id": "ea5a730c",
   "metadata": {},
   "outputs": [],
   "source": [
    "netmhc_pair_list = []\n",
    "netmhc_directory = os.fsencode('netmhc final pairs')\n",
    "for file in os.listdir(netmhc_directory):\n",
    "    file_num = os.fsdecode(file[:-4])\n",
    "    input_file = open('netmhc input pairs final/final_pair_{}.txt'.format(file_num), 'r')\n",
    "    output_file = open('netmhc final pairs/{}.txt'.format(file_num),'r')\n",
    "    out_line = output_file.readline()\n",
    "    ready = 2\n",
    "    reading = 0\n",
    "    index = 0\n",
    "    \n",
    "    while out_line:\n",
    "        if reading:\n",
    "            data = out_line.split()\n",
    "            score = float(data[8])\n",
    "            if score < 37:\n",
    "                reading = 0\n",
    "            elif reading == 19:\n",
    "                netmhc_pair_list.append(pair_name)\n",
    "                reading = 0\n",
    "            else: \n",
    "                reading = reading + 1\n",
    "        elif out_line[0] == '-':\n",
    "            ready += 1\n",
    "            if ready == 4:\n",
    "                reading = 1\n",
    "                ready = 0\n",
    "                in_line = input_file.readline()\n",
    "                pair_name = in_line[1:-1].replace('-','\\t')\n",
    "                in_line = input_file.readline()\n",
    "        out_line = output_file.readline()\n",
    "    input_file.close()\n",
    "    output_file.close()\n",
    "    \n",
    "netmhc_zf_transitions = {}\n",
    "for pair in netmhc_pair_list:\n",
    "    zfs = pair.split('\\t')\n",
    "    if zfs[0] in netmhc_zf_transitions:\n",
    "        netmhc_zf_transitions[zfs[0]].append(zfs[1])\n",
    "    else:\n",
    "        netmhc_zf_transitions[zfs[0]]=[zfs[1]]"
   ]
  },
  {
   "cell_type": "markdown",
   "id": "0ae0e7bb",
   "metadata": {},
   "source": [
    "## Generate files with acceptable ZF pairs"
   ]
  },
  {
   "cell_type": "code",
   "execution_count": 28,
   "id": "6eff3d2b",
   "metadata": {},
   "outputs": [],
   "source": [
    "outfile = open('MARIA_transitions.txt','w')\n",
    "for zf1 in maria_zf_transitions:\n",
    "    for zf2 in maria_zf_transitions[zf1]:\n",
    "        outfile.write('{} {}\\n'.format(zf1,zf2))\n",
    "outfile.close()"
   ]
  },
  {
   "cell_type": "code",
   "execution_count": 29,
   "id": "1d0610f0",
   "metadata": {},
   "outputs": [],
   "source": [
    "outfile = open('NetMHCII_transitions.txt','w')\n",
    "for zf1 in netmhc_zf_transitions:\n",
    "    for zf2 in netmhc_zf_transitions[zf1]:\n",
    "        outfile.write('{} {}\\n'.format(zf1,zf2))\n",
    "outfile.close()"
   ]
  },
  {
   "cell_type": "markdown",
   "id": "d00de4ef",
   "metadata": {},
   "source": [
    "## Generate data sets collating DNA-binding and MHC results"
   ]
  },
  {
   "cell_type": "code",
   "execution_count": 30,
   "id": "e4f437dd",
   "metadata": {},
   "outputs": [],
   "source": [
    "maria_zifrc_zf_possible_per_codon = {}\n",
    "for zf1 in maria_zf_transitions.keys():\n",
    "    for codon in possible_codons:\n",
    "        name = zf1 + codon\n",
    "        zf_list = []\n",
    "        for zf2 in maria_zf_transitions[zf1]:\n",
    "            if zf2 in zifrc_codons and zifrc_codons[zf2] == codon:\n",
    "                zf_list.append(zf2)\n",
    "        maria_zifrc_zf_possible_per_codon[name] = zf_list\n",
    "        \n",
    "maria_zifrc_codon_transitions = {}\n",
    "for zf1 in maria_zf_transitions.keys():\n",
    "    if zf1 in zifrc_codons:\n",
    "        codon2 = zifrc_codons[zf1]\n",
    "        for zf2 in maria_zf_transitions[zf1]:\n",
    "            if zf2 in zifrc_codons:\n",
    "                codon1 = zifrc_codons[zf2]\n",
    "                if codon1 in maria_zifrc_codon_transitions.keys():\n",
    "                    if not (codon2 in maria_zifrc_codon_transitions[codon1]):\n",
    "                        maria_zifrc_codon_transitions[codon1].append(codon2)\n",
    "                else:\n",
    "                    maria_zifrc_codon_transitions[codon1] = [codon2]\n",
    "for codon in possible_codons:\n",
    "    if not codon in maria_zifrc_codon_transitions.keys():\n",
    "        maria_zifrc_codon_transitions[codon] = []"
   ]
  },
  {
   "cell_type": "code",
   "execution_count": 31,
   "id": "b8a0ba76",
   "metadata": {},
   "outputs": [],
   "source": [
    "netmhc_zifrc_zf_possible_per_codon = {}\n",
    "for zf1 in netmhc_zf_transitions.keys():\n",
    "    for codon in possible_codons:\n",
    "        name = zf1 + codon\n",
    "        zf_list = []\n",
    "        for zf2 in netmhc_zf_transitions[zf1]:\n",
    "            if zf2 in zifrc_codons and zifrc_codons[zf2] == codon:\n",
    "                zf_list.append(zf2)\n",
    "        netmhc_zifrc_zf_possible_per_codon[name] = zf_list\n",
    "        \n",
    "netmhc_zifrc_codon_transitions = {}\n",
    "for zf1 in netmhc_zf_transitions.keys():\n",
    "    if zf1 in zifrc_codons:\n",
    "        codon2 = zifrc_codons[zf1]\n",
    "        for zf2 in netmhc_zf_transitions[zf1]:\n",
    "            if zf2 in zifrc_codons:\n",
    "                codon1 = zifrc_codons[zf2]\n",
    "                if codon1 in netmhc_zifrc_codon_transitions.keys():\n",
    "                    if not (codon2 in netmhc_zifrc_codon_transitions[codon1]):\n",
    "                        netmhc_zifrc_codon_transitions[codon1].append(codon2)\n",
    "                else:\n",
    "                    netmhc_zifrc_codon_transitions[codon1] = [codon2]\n",
    "for codon in possible_codons:\n",
    "    if not codon in netmhc_zifrc_codon_transitions.keys():\n",
    "        netmhc_zifrc_codon_transitions[codon] = []"
   ]
  },
  {
   "cell_type": "code",
   "execution_count": 32,
   "id": "c4972289",
   "metadata": {},
   "outputs": [],
   "source": [
    "maria_deepzf_zf_possible_per_codon = {}\n",
    "for zf1 in maria_zf_transitions.keys():\n",
    "    for codon in possible_codons:\n",
    "        name = zf1 + codon\n",
    "        zf_list = []\n",
    "        for zf2 in maria_zf_transitions[zf1]:\n",
    "            if deepzf_codons[zf2] == codon:\n",
    "                zf_list.append(zf2)\n",
    "        maria_deepzf_zf_possible_per_codon[name] = zf_list\n",
    "        \n",
    "maria_deepzf_codon_transitions = {}\n",
    "for zf1 in maria_zf_transitions.keys():\n",
    "    codon2 = deepzf_codons[zf1]\n",
    "    for zf2 in maria_zf_transitions[zf1]:\n",
    "        codon1 = deepzf_codons[zf2]\n",
    "        if codon1 in maria_deepzf_codon_transitions.keys():\n",
    "            if not (codon2 in maria_deepzf_codon_transitions[codon1]):\n",
    "                maria_deepzf_codon_transitions[codon1].append(codon2)\n",
    "        else:\n",
    "            maria_deepzf_codon_transitions[codon1] = [codon2]\n",
    "for codon in possible_codons:\n",
    "    if not codon in maria_deepzf_codon_transitions.keys():\n",
    "        maria_deepzf_codon_transitions[codon] = []"
   ]
  },
  {
   "cell_type": "code",
   "execution_count": 33,
   "id": "89520f86",
   "metadata": {},
   "outputs": [],
   "source": [
    "netmhc_deepzf_zf_possible_per_codon = {}\n",
    "for zf1 in netmhc_zf_transitions.keys():\n",
    "    for codon in possible_codons:\n",
    "        name = zf1 + codon\n",
    "        zf_list = []\n",
    "        for zf2 in netmhc_zf_transitions[zf1]:\n",
    "            if deepzf_codons[zf2] == codon:\n",
    "                zf_list.append(zf2)\n",
    "        netmhc_deepzf_zf_possible_per_codon[name] = zf_list\n",
    "        \n",
    "netmhc_deepzf_codon_transitions = {}\n",
    "for zf1 in netmhc_zf_transitions.keys():\n",
    "    codon2 = deepzf_codons[zf1]\n",
    "    for zf2 in netmhc_zf_transitions[zf1]:\n",
    "        codon1 = deepzf_codons[zf2]\n",
    "        if codon1 in netmhc_deepzf_codon_transitions.keys():\n",
    "            if not (codon2 in netmhc_deepzf_codon_transitions[codon1]):\n",
    "                netmhc_deepzf_codon_transitions[codon1].append(codon2)\n",
    "        else:\n",
    "            netmhc_deepzf_codon_transitions[codon1] = [codon2]\n",
    "for codon in possible_codons:\n",
    "    if not codon in netmhc_deepzf_codon_transitions.keys():\n",
    "        netmhc_deepzf_codon_transitions[codon] = []"
   ]
  },
  {
   "cell_type": "code",
   "execution_count": 38,
   "id": "333ddb99",
   "metadata": {},
   "outputs": [],
   "source": [
    "maria_zifrc_9mers = {}\n",
    "for first_codon in possible_codons:\n",
    "    for second_codon in possible_codons:\n",
    "        for third_codon in possible_codons:\n",
    "            this_chain = seq_first(third_codon + second_codon + first_codon,maria_zifrc_codons,maria_zifrc_missing_codons,\n",
    "                                   maria_zifrc_zf_possible_per_codon,maria_zifrc_codon_transitions,maria_zf_transitions)\n",
    "            if this_chain:\n",
    "                maria_zifrc_9mers[third_codon + second_codon + first_codon] = 1\n",
    "            else:\n",
    "                maria_zifrc_9mers[third_codon + second_codon + first_codon] = 0"
   ]
  },
  {
   "cell_type": "code",
   "execution_count": 39,
   "id": "27d431ee",
   "metadata": {},
   "outputs": [],
   "source": [
    "netmhc_zifrc_9mers = {}\n",
    "for first_codon in possible_codons:\n",
    "    for second_codon in possible_codons:\n",
    "        for third_codon in possible_codons:\n",
    "            this_chain = seq_first(third_codon + second_codon + first_codon,netmhc_zifrc_codons,netmhc_zifrc_missing_codons,\n",
    "                                   netmhc_zifrc_zf_possible_per_codon,netmhc_zifrc_codon_transitions,netmhc_zf_transitions)\n",
    "            if this_chain:\n",
    "                netmhc_zifrc_9mers[third_codon + second_codon + first_codon] = 1\n",
    "            else:\n",
    "                netmhc_zifrc_9mers[third_codon + second_codon + first_codon] = 0"
   ]
  },
  {
   "cell_type": "code",
   "execution_count": 40,
   "id": "984b9cc3",
   "metadata": {},
   "outputs": [],
   "source": [
    "maria_deepzf_9mers = {}\n",
    "for first_codon in possible_codons:\n",
    "    for second_codon in possible_codons:\n",
    "        for third_codon in possible_codons:\n",
    "            this_chain = seq_first(third_codon + second_codon + first_codon,maria_deepzf_codons,maria_deepzf_missing_codons,\n",
    "                                   maria_deepzf_zf_possible_per_codon,maria_deepzf_codon_transitions,maria_zf_transitions)\n",
    "            if this_chain:\n",
    "                maria_deepzf_9mers[third_codon + second_codon + first_codon] = 1\n",
    "            else:\n",
    "                maria_deepzf_9mers[third_codon + second_codon + first_codon] = 0"
   ]
  },
  {
   "cell_type": "code",
   "execution_count": 41,
   "id": "1ac9deba",
   "metadata": {},
   "outputs": [],
   "source": [
    "netmhc_deepzf_9mers = {}\n",
    "for first_codon in possible_codons:\n",
    "    for second_codon in possible_codons:\n",
    "        for third_codon in possible_codons:\n",
    "            this_chain = seq_first(third_codon + second_codon + first_codon,netmhc_deepzf_codons,netmhc_deepzf_missing_codons,\n",
    "                                   netmhc_deepzf_zf_possible_per_codon,netmhc_deepzf_codon_transitions,netmhc_zf_transitions)\n",
    "            if this_chain:\n",
    "                netmhc_deepzf_9mers[third_codon + second_codon + first_codon] = 1\n",
    "            else:\n",
    "                netmhc_deepzf_9mers[third_codon + second_codon + first_codon] = 0"
   ]
  },
  {
   "cell_type": "markdown",
   "id": "c54110de",
   "metadata": {},
   "source": [
    "## Functions supporting ZF array creation"
   ]
  },
  {
   "cell_type": "code",
   "execution_count": 34,
   "id": "873da3b7",
   "metadata": {},
   "outputs": [],
   "source": [
    "def split_seq(sequence):\n",
    "    if len(sequence) < 3:\n",
    "        return []\n",
    "    if len(sequence) % 3 != 0:\n",
    "        sequence = sequence[:-(len(sequence) % 3)]\n",
    "    temp_seq =sequence\n",
    "    output = []\n",
    "    while temp_seq:\n",
    "        output.append(temp_seq[-3:])\n",
    "        temp_seq = temp_seq[:-3]\n",
    "    return output\n",
    "\n",
    "def seq_first(sequence,codon_zfs,missing_codons,zf_possible_per_codon,codon_transitions,zf_transitions):\n",
    "    codon_list = split_seq(sequence)\n",
    "    for i in range(len(codon_list)):\n",
    "        if codon_list[i] in missing_codons:\n",
    "            return None\n",
    "        if i < len(codon_list) - 1:\n",
    "            if not (codon_list[i+1] in codon_transitions[codon_list[i]]):\n",
    "                return None\n",
    "    for zf_1 in codon_zfs[codon_list[0]]:\n",
    "        if zf_1 in zf_transitions.keys():\n",
    "            for zf_2 in zf_possible_per_codon[zf_1+codon_list[1]]:\n",
    "                zf_array = seq_first_recursive(codon_list[1:],zf_2,zf_transitions,zf_possible_per_codon)\n",
    "                if zf_array:\n",
    "                    return [zf_1] + zf_array\n",
    "    return None\n",
    "\n",
    "def seq_first_recursive(codon_list,zf_1,zf_transitions,zf_possible_per_codon):\n",
    "    if len(codon_list) == 1:\n",
    "        return [zf_1]\n",
    "    if zf_1 in zf_transitions.keys():\n",
    "        for zf_2 in zf_possible_per_codon[zf_1+codon_list[1]]:\n",
    "            zf_array = seq_first_recursive(codon_list[1:],zf_2,zf_transitions,zf_possible_per_codon)\n",
    "            if zf_array:\n",
    "                return [zf_1] + zf_array\n",
    "    return None"
   ]
  },
  {
   "cell_type": "code",
   "execution_count": 35,
   "id": "5ce799ab",
   "metadata": {},
   "outputs": [],
   "source": [
    "class zf_tree:\n",
    "    #object represents a set of zinc fingers that bind to the same DNA sequence. Each node represents a given zinc finger domain,\n",
    "    #while the children are themselves trees which are the zfs that can directly follow the parent tree's ZF\n",
    "    def __init__(self, zf):\n",
    "        self.zf = zf\n",
    "        self.children = []\n",
    "    def add_child(self, child):\n",
    "        self.children.append(child)\n",
    "    def return_arrays(self):\n",
    "        if self.children:\n",
    "            output = []\n",
    "            for child in self.children:\n",
    "                for array in child.return_arrays():\n",
    "                    output.append([self.zf] + array)\n",
    "            return output\n",
    "        else:\n",
    "            return [[self.zf]]\n",
    "    def return_best_array(self,zf_score):\n",
    "        if self.children:\n",
    "            best_score = 0\n",
    "            best_child = []\n",
    "            for child in self.children:\n",
    "                child_best = child.return_best_array()\n",
    "                child_score = grade_array(child_best,zf_score)\n",
    "                if child_score > best_score:\n",
    "                    best_child = child_best\n",
    "                    best_score = child_score\n",
    "            return [self.zf] + best_child\n",
    "        else:\n",
    "            return[self.zf]\n",
    "    def return_best_score(self,zf_score):\n",
    "        if self.children:\n",
    "            best_score = 0\n",
    "            for child in self.children:\n",
    "                this_score = child.return_best_score(zf_score)\n",
    "                if this_score > best_score:\n",
    "                    best_score = this_score\n",
    "            return best_score + zf_score[self.zf]\n",
    "        else:\n",
    "            return zf_score[self.zf]\n",
    "    def return_array_nums(self):\n",
    "        if self.children:\n",
    "            array_num = 0\n",
    "            for child in self.children:\n",
    "                array_num = array_num + child.return_array_nums()\n",
    "            return array_num\n",
    "        else:\n",
    "            return 1\n",
    "        "
   ]
  },
  {
   "cell_type": "markdown",
   "id": "67def67a",
   "metadata": {},
   "source": [
    "## Find number of targetable sites across promoter set"
   ]
  },
  {
   "cell_type": "code",
   "execution_count": 42,
   "id": "e23daf8b",
   "metadata": {},
   "outputs": [],
   "source": [
    "class missing_dict(dict):\n",
    "    def __missing__ (self,key):\n",
    "        return 1"
   ]
  },
  {
   "cell_type": "code",
   "execution_count": 45,
   "id": "318684b9",
   "metadata": {},
   "outputs": [],
   "source": [
    "def check_promoters(codon_zfs,missing_codons,zf_possible_per_codon,codon_transitions,zf_transitions,enna_dic):\n",
    "    promoters_checked = 0\n",
    "    start = time.time()\n",
    "    promoter_site_nums = []\n",
    "    checked_12nucs = missing_dict()\n",
    "    for promoter in Bio.SeqIO.parse('epd_promoters.txt', 'fasta'):\n",
    "        promoter_site = 0\n",
    "        sites_checked = 0\n",
    "        promoter_seq = str(promoter.seq)\n",
    "        strands= (promoter_seq,complement_DNA(promoter_seq))\n",
    "        for sequence in strands:\n",
    "            for i in range(len(sequence)-24):\n",
    "                site = sequence[i:i+24]\n",
    "                sites_checked += 1\n",
    "                inaccessible = 0\n",
    "                for i in range(0,13,3):\n",
    "                    twelvemer = site[i:i+12]\n",
    "                    if (not checked_12nucs[twelvemer]):\n",
    "                        inaccessible = 1\n",
    "                for i in range(6):\n",
    "                    subsite = site[i*3:i*3+9]\n",
    "                    if 'N' in subsite or not (enna_dic[subsite]):\n",
    "                        inaccessible = 1\n",
    "                        break\n",
    "                if not inaccessible:\n",
    "                    if seq_first(site,codon_zfs,missing_codons,zf_possible_per_codon,codon_transitions,zf_transitions):\n",
    "                        promoter_site += 1\n",
    "                    else:\n",
    "                        for i in range(0,13,3):\n",
    "                            twelvemer = site[i:i+12]\n",
    "                            if not seq_first(twelvemer,codon_zfs,missing_codons,zf_possible_per_codon,codon_transitions,zf_transitions):\n",
    "                                checked_12nucs[twelvemer] = 0\n",
    "                        if seq_first(site[:12],codon_zfs,missing_codons,zf_possible_per_codon,codon_transitions,zf_transitions):\n",
    "                            if not seq_first(site[-12:],codon_zfs,missing_codons,zf_possible_per_codon,codon_transitions,zf_transitions):\n",
    "                                checked_12nucs[site[-12:]] = 0\n",
    "                        else:\n",
    "                            checked_12nucs[site[:12]] = 0\n",
    "        promoter_site_nums.append(promoter_site)\n",
    "        promoters_checked += 1\n",
    "        outfile.close()\n",
    "        if promoters_checked %10==0:\n",
    "            current = time.time()\n",
    "            print(promoters_checked)\n",
    "            rate = (current - start)/ promoters_checked\n",
    "            togo = rate * (29598-promoters_checked)\n",
    "            print('ETA {:.2f} minutes'.format(togo/60))\n",
    "    return promoter_site_nums"
   ]
  },
  {
   "cell_type": "code",
   "execution_count": null,
   "id": "3bfa9099",
   "metadata": {},
   "outputs": [],
   "source": [
    "maria_deepzf_promoter_site_nums=check_promoters(maria_deepzf_codons,maria_deepzf_missing_codons,\n",
    "                            maria_deepzf_zf_possible_per_codon,maria_deepzf_codon_transitions,\n",
    "                            maria_zf_transitions,maria_deepzf_9mers)"
   ]
  },
  {
   "cell_type": "code",
   "execution_count": null,
   "id": "00cbd2ff",
   "metadata": {},
   "outputs": [],
   "source": [
    "maria_zifrc_promoter_site_nums=check_promoters(maria_zifrc_codons,maria_zifrc_missing_codons,\n",
    "                            maria_zifrc_zf_possible_per_codon,maria_zifrc_codon_transitions,\n",
    "                            maria_zf_transitions,maria_zifrc_9mers)"
   ]
  },
  {
   "cell_type": "code",
   "execution_count": null,
   "id": "c30ac595",
   "metadata": {},
   "outputs": [],
   "source": [
    "netmhc_deepzf_promoter_site_nums=check_promoters(netmhc_deepzf_codons,netmhc_deepzf_missing_codons,\n",
    "                            netmhc_deepzf_zf_possible_per_codon,netmhc_deepzf_codon_transitions,\n",
    "                            netmhc_zf_transitions,netmhc_deepzf_9mers)"
   ]
  },
  {
   "cell_type": "code",
   "execution_count": null,
   "id": "3968ad76",
   "metadata": {},
   "outputs": [],
   "source": [
    "netmhc_zifrc_promoter_site_nums=check_promoters(netmhc_zifrc_codons,netmhc_zifrc_missing_codons,\n",
    "                            netmhc_zifrc_zf_possible_per_codon,netmhc_zifrc_codon_transitions,\n",
    "                            netmhc_zf_transitions,netmhc_zifrc_9mers)"
   ]
  }
 ],
 "metadata": {
  "kernelspec": {
   "display_name": "Python 3 (ipykernel)",
   "language": "python",
   "name": "python3"
  },
  "language_info": {
   "codemirror_mode": {
    "name": "ipython",
    "version": 3
   },
   "file_extension": ".py",
   "mimetype": "text/x-python",
   "name": "python",
   "nbconvert_exporter": "python",
   "pygments_lexer": "ipython3",
   "version": "3.9.13"
  }
 },
 "nbformat": 4,
 "nbformat_minor": 5
}
