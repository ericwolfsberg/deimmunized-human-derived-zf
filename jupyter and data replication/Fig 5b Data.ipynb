{
 "cells": [
  {
   "cell_type": "code",
   "execution_count": 1,
   "id": "e84e938c",
   "metadata": {},
   "outputs": [],
   "source": [
    "import re"
   ]
  },
  {
   "cell_type": "markdown",
   "id": "6d9ba39d",
   "metadata": {},
   "source": [
    "# Get human ZFs"
   ]
  },
  {
   "cell_type": "code",
   "execution_count": 2,
   "id": "c9f206a9",
   "metadata": {},
   "outputs": [],
   "source": [
    "zf_re = re.compile('..C.{2,4}C.{12}H.{3,7}[HC]') ##zinc finger structure, ie CXX[XX]CXXXXXXXXXXXXHXXX[XXXX]H\n",
    "zf_cterm = re.compile('C.{2,4}C')"
   ]
  },
  {
   "cell_type": "code",
   "execution_count": 3,
   "id": "a4f7d412",
   "metadata": {},
   "outputs": [],
   "source": [
    "infile = open('full_zf.fasta','r')\n",
    "full_protein_lib = {}\n",
    "line = infile.readline()\n",
    "while line:\n",
    "    seq = ''\n",
    "    name = line.split('|')[1]\n",
    "    line = infile.readline()\n",
    "    while line and (not line[0]=='>'):\n",
    "        seq += line[:-1]\n",
    "        line = infile.readline()\n",
    "    full_protein_lib[name] = seq"
   ]
  },
  {
   "cell_type": "code",
   "execution_count": 4,
   "id": "443b4c0f",
   "metadata": {},
   "outputs": [],
   "source": [
    "zf_order = []\n",
    "allzf_lib = {}\n",
    "for protein in full_protein_lib:\n",
    "    seq = full_protein_lib[protein]\n",
    "    zf_match = re.search(zf_re,seq)\n",
    "    fing_num = 1\n",
    "    while zf_match:\n",
    "        zf = zf_match.group()\n",
    "        end = zf_match.end()\n",
    "        name = protein + ' finger ' + str(fing_num)\n",
    "        same_seq = 0\n",
    "        for have_zf in allzf_lib:\n",
    "            if allzf_lib[have_zf] == zf:\n",
    "                same_seq = 1\n",
    "        if not same_seq:\n",
    "            allzf_lib[name] = zf\n",
    "            zf_order.append(name)\n",
    "        seq = seq[end:]\n",
    "        zf_match = re.search(zf_re,seq)\n",
    "        fing_num += 1\n",
	"#observed these fingers have  unusual C-terminal additions because the regular expression matches a superstring\n"
	"#they're present in one of our constructs (UTRN-43) which was originally designed with a slightly different zf library\n"
	"#so for consistency we're just adding them directly\n"
    "allzf_lib['Q9Y2K1 finger 1']='FTCDSCGFGFSCEKLLDEHVLTC'\n",
    "allzf_lib['Q9GZU2 finger 6']='YECEDCGLGFVDLTDLTDHQKVH'"
   ]
  },
  {
   "cell_type": "code",
   "execution_count": 5,
   "id": "27db676f",
   "metadata": {},
   "outputs": [
    {
     "data": {
      "text/plain": [
       "6892"
      ]
     },
     "execution_count": 5,
     "metadata": {},
     "output_type": "execute_result"
    }
   ],
   "source": [
    "len(allzf_lib)"
   ]
  },
  {
   "cell_type": "markdown",
   "id": "a10555f9",
   "metadata": {},
   "source": [
    "## Generate input files for MHC predictors with individual ZFs"
   ]
  },
  {
   "cell_type": "code",
   "execution_count": 6,
   "id": "18b41e50",
   "metadata": {},
   "outputs": [],
   "source": [
    "outfile = open('maria_nterm_link_zfs_final.txt','w')\n",
    "outfile.write('Allele1\\tAllele2 (Same as Allele1 if analyzing a single allele)\\tGene Symbol\\tPeptide Sequence\\tTPM (Optional)\\n')\n",
    "for zf in allzf_lib.keys():\n",
    "    seq = allzf_lib[zf]\n",
    "    outfile.write('HLA-DRB1*01:01\\tHLA-DRB1*01:01\\t{}\\t{}TGERP\\t\\n'.format(zf,seq[-14:]))\n",
    "outfile.close()"
   ]
  },
  {
   "cell_type": "code",
   "execution_count": 7,
   "id": "fc05112a",
   "metadata": {},
   "outputs": [],
   "source": [
    "outfile = open('netmhc_nterm_link_zfs_final.txt','w')\n",
    "for zf in allzf_lib.keys():\n",
    "    seq = allzf_lib[zf]\n",
    "    outfile.write('>{}\\n{}TGERP\\n'.format(zf,seq[-14:]))\n",
    "outfile.close()"
   ]
  },
  {
   "cell_type": "code",
   "execution_count": 8,
   "id": "cca1429f",
   "metadata": {},
   "outputs": [],
   "source": [
    "outfile = open('netmhc_cterm_link_zfs_final.txt','w')\n",
    "for zf in allzf_lib.keys():\n",
    "    seq = allzf_lib[zf]\n",
    "    outfile.write('>{}\\nTGERP{}\\n'.format(zf,seq[:14]))\n",
    "outfile.close()"
   ]
  },
  {
   "cell_type": "markdown",
   "id": "5e4d8000",
   "metadata": {},
   "source": [
    "## Read MHC output files for individual ZFs"
   ]
  },
  {
   "cell_type": "code",
   "execution_count": 9,
   "id": "d24692d5",
   "metadata": {},
   "outputs": [],
   "source": [
    "infile = open('maria_nterm_final.txt','r')\n",
    "maria_accepted_zfs = {}\n",
    "line = infile.readline()\n",
    "line = infile.readline()\n",
    "while line:\n",
    "    data = line.split('\\t')\n",
    "    name = data[2]\n",
    "    score = data[7]\n",
    "    if float(score) <63:\n",
    "        maria_accepted_zfs[name] = allzf_lib[name]\n",
    "    line = infile.readline()\n",
    "infile.close()"
   ]
  },
  {
   "cell_type": "code",
   "execution_count": 10,
   "id": "171328b5",
   "metadata": {},
   "outputs": [],
   "source": [
    "infile = open('allzf_netmhc_nterm.txt')\n",
    "line = infile.readline()\n",
    "nterm_accepted_netmhc_zfs = {}\n",
    "ready = 2\n",
    "reading = 0\n",
    "index = 0\n",
    "while line:\n",
    "    if reading:\n",
    "        data = line.split()\n",
    "        score = float(data[8])\n",
    "        if score < 37:\n",
    "            reading = 0\n",
    "        elif reading == 6:\n",
    "            nterm_accepted_netmhc_zfs[zf] = allzf_lib[zf]\n",
    "            reading = 0\n",
    "        else: \n",
    "            reading = reading + 1\n",
    "    elif line[0] == '-':\n",
    "        ready += 1\n",
    "        if ready == 4:\n",
    "            reading = 1\n",
    "            ready = 0\n",
    "            zf = zf_order[index]\n",
    "            index = index + 1\n",
    "    line = infile.readline()"
   ]
  },
  {
   "cell_type": "code",
   "execution_count": 11,
   "id": "9df38f02",
   "metadata": {},
   "outputs": [],
   "source": [
    "infile = open('allzf_netmhc_cterm.txt')\n",
    "line = infile.readline()\n",
    "cterm_accepted_netmhc_zfs = {}\n",
    "ready = 2\n",
    "reading = 0\n",
    "index = 0\n",
    "while line:\n",
    "    if reading:\n",
    "        data = line.split()\n",
    "        score = float(data[8])\n",
    "        if score < 37:\n",
    "            reading = 0\n",
    "        elif reading == 6:\n",
    "            cterm_accepted_netmhc_zfs[zf] = allzf_lib[zf]\n",
    "            reading = 0\n",
    "        else: \n",
    "            reading = reading + 1\n",
    "    elif line[0] == '-':\n",
    "        ready += 1\n",
    "        if ready == 4:\n",
    "            reading = 1\n",
    "            ready = 0\n",
    "            zf = zf_order[index]\n",
    "            index = index + 1\n",
    "    line = infile.readline()"
   ]
  },
  {
   "cell_type": "code",
   "execution_count": 12,
   "id": "0c5a6ad1",
   "metadata": {},
   "outputs": [],
   "source": [
    "netmhc_accepted_zfs = {}\n",
    "for zf in nterm_accepted_netmhc_zfs.keys():\n",
    "    if zf in cterm_accepted_netmhc_zfs.keys():\n",
    "        netmhc_accepted_zfs[zf]=allzf_lib[zf]"
   ]
  },
  {
   "cell_type": "markdown",
   "id": "0fa564d9",
   "metadata": {},
   "source": [
    "## Determine numbers of accepted ZFs"
   ]
  },
  {
   "cell_type": "code",
   "execution_count": 13,
   "id": "524b00f6",
   "metadata": {},
   "outputs": [
    {
     "data": {
      "text/plain": [
       "947"
      ]
     },
     "execution_count": 13,
     "metadata": {},
     "output_type": "execute_result"
    }
   ],
   "source": [
    "len(maria_accepted_zfs)"
   ]
  },
  {
   "cell_type": "code",
   "execution_count": 14,
   "id": "7d097bad",
   "metadata": {},
   "outputs": [
    {
     "data": {
      "text/plain": [
       "1133"
      ]
     },
     "execution_count": 14,
     "metadata": {},
     "output_type": "execute_result"
    }
   ],
   "source": [
    "len(netmhc_accepted_zfs)"
   ]
  },
  {
   "cell_type": "code",
   "execution_count": 15,
   "id": "028941c0",
   "metadata": {},
   "outputs": [
    {
     "data": {
      "text/plain": [
       "220"
      ]
     },
     "execution_count": 15,
     "metadata": {},
     "output_type": "execute_result"
    }
   ],
   "source": [
    "len(netmhc_accepted_zfs.keys() &maria_accepted_zfs.keys()) # overlap"
   ]
  },
  {
   "cell_type": "code",
   "execution_count": 16,
   "id": "3fb1f254",
   "metadata": {},
   "outputs": [
    {
     "data": {
      "text/plain": [
       "913"
      ]
     },
     "execution_count": 16,
     "metadata": {},
     "output_type": "execute_result"
    }
   ],
   "source": [
    "len(netmhc_accepted_zfs.keys() - maria_accepted_zfs.keys())"
   ]
  },
  {
   "cell_type": "code",
   "execution_count": 17,
   "id": "0322cb53",
   "metadata": {},
   "outputs": [
    {
     "data": {
      "text/plain": [
       "727"
      ]
     },
     "execution_count": 17,
     "metadata": {},
     "output_type": "execute_result"
    }
   ],
   "source": [
    "len(maria_accepted_zfs.keys() - netmhc_accepted_zfs.keys())"
   ]
  },
  {
   "cell_type": "code",
   "execution_count": null,
   "id": "8ea3e7ef",
   "metadata": {},
   "outputs": [],
   "source": []
  }
 ],
 "metadata": {
  "kernelspec": {
   "display_name": "Python 3 (ipykernel)",
   "language": "python",
   "name": "python3"
  },
  "language_info": {
   "codemirror_mode": {
    "name": "ipython",
    "version": 3
   },
   "file_extension": ".py",
   "mimetype": "text/x-python",
   "name": "python",
   "nbconvert_exporter": "python",
   "pygments_lexer": "ipython3",
   "version": "3.9.13"
  }
 },
 "nbformat": 4,
 "nbformat_minor": 5
}
